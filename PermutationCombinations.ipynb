{
  "nbformat": 4,
  "nbformat_minor": 0,
  "metadata": {
    "colab": {
      "provenance": [],
      "authorship_tag": "ABX9TyPKyY4wh7qAvm3o1EH2znuP",
      "include_colab_link": true
    },
    "kernelspec": {
      "name": "python3",
      "display_name": "Python 3"
    },
    "language_info": {
      "name": "python"
    }
  },
  "cells": [
    {
      "cell_type": "markdown",
      "metadata": {
        "id": "view-in-github",
        "colab_type": "text"
      },
      "source": [
        "<a href=\"https://colab.research.google.com/github/Sonam-27/Python-Basic/blob/main/PermutationCombinations.ipynb\" target=\"_parent\"><img src=\"https://colab.research.google.com/assets/colab-badge.svg\" alt=\"Open In Colab\"/></a>"
      ]
    },
    {
      "cell_type": "markdown",
      "source": [
        "###Permutation with length 2"
      ],
      "metadata": {
        "id": "XLO3Kjxsdm74"
      }
    },
    {
      "cell_type": "code",
      "execution_count": 7,
      "metadata": {
        "colab": {
          "base_uri": "https://localhost:8080/"
        },
        "id": "xgZJHnxyYjAV",
        "outputId": "2690539e-8f34-4171-b69d-0452a62525e5"
      },
      "outputs": [
        {
          "output_type": "stream",
          "name": "stdout",
          "text": [
            "(1, 2)\n",
            "(1, 3)\n",
            "(2, 1)\n",
            "(2, 3)\n",
            "(3, 1)\n",
            "(3, 2)\n",
            "Permutation Count 6\n"
          ]
        }
      ],
      "source": [
        "from itertools import permutations\n",
        "count=0\n",
        "data=[1,2,3]\n",
        "perm=permutations(data,2)\n",
        "for i in list(perm):\n",
        "  print(i)\n",
        "  count+=1\n",
        "\n",
        "print(\"Permutation Count\",count)"
      ]
    },
    {
      "cell_type": "markdown",
      "source": [
        "###Combinations with length 2"
      ],
      "metadata": {
        "id": "F3BX0XJEdt48"
      }
    },
    {
      "cell_type": "code",
      "source": [
        "from itertools import combinations\n",
        "count=0\n",
        "data=[1,2,3]\n",
        "comb=combinations(data,2)\n",
        "for i in list(comb):\n",
        "  print(i)\n",
        "  count+=1\n",
        "\n",
        "print(\"Combinations Count\",count)"
      ],
      "metadata": {
        "colab": {
          "base_uri": "https://localhost:8080/"
        },
        "id": "y-zMPF5OdG1R",
        "outputId": "db520d6a-a745-4fe3-ecdd-e0f4a830f6d1"
      },
      "execution_count": 9,
      "outputs": [
        {
          "output_type": "stream",
          "name": "stdout",
          "text": [
            "(1, 2)\n",
            "(1, 3)\n",
            "(2, 3)\n",
            "Combinations Count 3\n"
          ]
        }
      ]
    },
    {
      "cell_type": "markdown",
      "source": [
        "###Combination with replacement"
      ],
      "metadata": {
        "id": "-a26zwwheLd5"
      }
    },
    {
      "cell_type": "code",
      "source": [
        "from itertools import combinations_with_replacement as cr\n",
        "count=0\n",
        "data=[1,2,3]\n",
        "comb=cr(data,2)\n",
        "for i in list(comb):\n",
        "  print(i)\n",
        "  count+=1\n",
        "\n",
        "print(\"Combinations Count\",count)"
      ],
      "metadata": {
        "colab": {
          "base_uri": "https://localhost:8080/"
        },
        "id": "04Oxgar_ePNZ",
        "outputId": "6a0c530a-e72f-41b9-d278-98c2c049da67"
      },
      "execution_count": 10,
      "outputs": [
        {
          "output_type": "stream",
          "name": "stdout",
          "text": [
            "(1, 1)\n",
            "(1, 2)\n",
            "(1, 3)\n",
            "(2, 2)\n",
            "(2, 3)\n",
            "(3, 3)\n",
            "Combinations Count 6\n"
          ]
        }
      ]
    }
  ]
}